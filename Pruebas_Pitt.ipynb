{
 "cells": [
  {
   "cell_type": "markdown",
   "metadata": {},
   "source": [
    "### Utterances por frase con pylangacq"
   ]
  },
  {
   "cell_type": "markdown",
   "metadata": {},
   "source": [
    "https://towardsdatascience.com/text-classification-with-state-of-the-art-nlp-library-flair-b541d7add21f"
   ]
  },
  {
   "cell_type": "code",
   "execution_count": 1,
   "metadata": {},
   "outputs": [],
   "source": [
    "#!pip install pylangacq\n",
    "#!pip install spacy\n",
    "import pylangacq as pla\n",
    "import pandas as pd\n",
    "import spacy\n",
    "from sklearn.utils import shuffle\n",
    "import numpy as np\n",
    "import os"
   ]
  },
  {
   "cell_type": "code",
   "execution_count": 2,
   "metadata": {},
   "outputs": [],
   "source": [
    "path = '/home/dani/course-v3/nbs/dl1/Corpus/Pitt/Control/cookie'"
   ]
  },
  {
   "cell_type": "code",
   "execution_count": 8,
   "metadata": {},
   "outputs": [],
   "source": [
    "eve = pla.read_chat('./Corpus/Pitt/Control/cookie/*.cha', encoding = 'utf-8')\n",
    "senten = eve.sents(participant='PAR', by_files=True)\n",
    "tagged = eve.tagged_sents(participant='PAR', by_files=True)"
   ]
  },
  {
   "cell_type": "code",
   "execution_count": 15,
   "metadata": {
    "scrolled": false
   },
   "outputs": [],
   "source": [
    "#tagged['/home/dani/course-v3/nbs/dl1/Corpus/Pitt/Control/cookie/013-2.cha']"
   ]
  },
  {
   "cell_type": "code",
   "execution_count": 14,
   "metadata": {},
   "outputs": [],
   "source": [
    "#senten['/home/dani/course-v3/nbs/dl1/Corpus/Pitt/Control/cookie/013-2.cha']"
   ]
  },
  {
   "cell_type": "code",
   "execution_count": 217,
   "metadata": {},
   "outputs": [],
   "source": [
    "path = '/home/dani/course-v3/nbs/dl1/Corpus/Pitt/Control/fluency'"
   ]
  },
  {
   "cell_type": "code",
   "execution_count": 218,
   "metadata": {},
   "outputs": [],
   "source": [
    "eve = pla.read_chat('./Corpus/Pitt/Control/fluency/*.cha', encoding = 'utf-8')\n",
    "senten = eve.sents(participant='PAR', by_files=True)"
   ]
  },
  {
   "cell_type": "code",
   "execution_count": 6,
   "metadata": {},
   "outputs": [],
   "source": [
    "list_of_sentences = []"
   ]
  },
  {
   "cell_type": "code",
   "execution_count": 7,
   "metadata": {
    "scrolled": false
   },
   "outputs": [],
   "source": [
    "for r, d, f in os.walk(path): \n",
    "              \n",
    "        for file in f:\n",
    "            text_per_file = ''\n",
    "            \n",
    "            for word_list in senten.get(path+'/'+ file):\n",
    "                text_per_file = text_per_file + (' '.join(word_list))\n",
    "            list_of_sentences.append(text_per_file)"
   ]
  },
  {
   "cell_type": "code",
   "execution_count": 8,
   "metadata": {},
   "outputs": [
    {
     "data": {
      "text/plain": [
       "243"
      ]
     },
     "execution_count": 8,
     "metadata": {},
     "output_type": "execute_result"
    }
   ],
   "source": [
    "len(list_of_sentences)"
   ]
  },
  {
   "cell_type": "code",
   "execution_count": 13,
   "metadata": {},
   "outputs": [],
   "source": [
    "group = list(['control']*len(list_of_sentences))"
   ]
  },
  {
   "cell_type": "code",
   "execution_count": 10,
   "metadata": {},
   "outputs": [],
   "source": [
    "control_df = pd.DataFrame(\n",
    "    {'utterances': list_of_sentences,\n",
    "     \n",
    "     'group': group\n",
    "    })"
   ]
  },
  {
   "cell_type": "code",
   "execution_count": 11,
   "metadata": {},
   "outputs": [],
   "source": [
    "path = '/home/dani/course-v3/nbs/dl1/Corpus/Pitt/Dementia/cookie'"
   ]
  },
  {
   "cell_type": "code",
   "execution_count": 12,
   "metadata": {},
   "outputs": [],
   "source": [
    "eve = pla.read_chat('./Corpus/Pitt/Dementia/cookie/*.cha', encoding = 'utf-8')\n",
    "senten = eve.sents(participant='PAR', by_files=True)"
   ]
  },
  {
   "cell_type": "code",
   "execution_count": 13,
   "metadata": {},
   "outputs": [],
   "source": [
    "list_of_sentences = []"
   ]
  },
  {
   "cell_type": "code",
   "execution_count": 14,
   "metadata": {},
   "outputs": [],
   "source": [
    "for r, d, f in os.walk(path): \n",
    "        \n",
    "        for file in f:\n",
    "            text_per_file = ''\n",
    "            for word_list in senten.get(path+'/'+ file):\n",
    "                \n",
    "                text_per_file = text_per_file + (' '.join(word_list))\n",
    "            list_of_sentences.append(text_per_file)            "
   ]
  },
  {
   "cell_type": "code",
   "execution_count": 15,
   "metadata": {},
   "outputs": [
    {
     "data": {
      "text/plain": [
       "309"
      ]
     },
     "execution_count": 15,
     "metadata": {},
     "output_type": "execute_result"
    }
   ],
   "source": [
    "group = list(['dementia']*len(list_of_sentences))\n",
    "len(group)"
   ]
  },
  {
   "cell_type": "code",
   "execution_count": 16,
   "metadata": {},
   "outputs": [],
   "source": [
    "dementia_df = pd.DataFrame(\n",
    "    {'utterances': list_of_sentences,\n",
    "     \n",
    "     'group': group\n",
    "    })"
   ]
  },
  {
   "cell_type": "code",
   "execution_count": 56,
   "metadata": {},
   "outputs": [],
   "source": [
    "# path = '/home/dani/course-v3/nbs/dl1/Corpus/Pitt/Dementia/fluency'"
   ]
  },
  {
   "cell_type": "code",
   "execution_count": 57,
   "metadata": {},
   "outputs": [],
   "source": [
    "# eve = pla.read_chat('./Corpus/Pitt/Dementia/fluency/*.cha', encoding = 'utf-8')#, by_files: True)\n",
    "# senten = eve.sents(participant='PAR', by_files=True)"
   ]
  },
  {
   "cell_type": "code",
   "execution_count": 60,
   "metadata": {},
   "outputs": [],
   "source": [
    "# path = '/home/dani/course-v3/nbs/dl1/Corpus/Pitt/Dementia/recall'"
   ]
  },
  {
   "cell_type": "code",
   "execution_count": 61,
   "metadata": {},
   "outputs": [],
   "source": [
    "# eve = pla.read_chat('./Corpus/Pitt/Dementia/recall/*.cha', encoding = 'utf-8')#, by_files: True)\n",
    "# senten = eve.sents(participant='PAR', by_files=True)"
   ]
  },
  {
   "cell_type": "code",
   "execution_count": 63,
   "metadata": {},
   "outputs": [],
   "source": [
    "# path = '/home/dani/course-v3/nbs/dl1/Corpus/Pitt/Dementia/sentence'"
   ]
  },
  {
   "cell_type": "code",
   "execution_count": 64,
   "metadata": {},
   "outputs": [],
   "source": [
    "# eve = pla.read_chat('./Corpus/Pitt/Dementia/sentence/*.cha', encoding = 'utf-8')#, by_files: True)\n",
    "# senten = eve.sents(participant='PAR', by_files=True)"
   ]
  },
  {
   "cell_type": "code",
   "execution_count": 58,
   "metadata": {},
   "outputs": [],
   "source": [
    "# list_of_sentences = []"
   ]
  },
  {
   "cell_type": "code",
   "execution_count": 65,
   "metadata": {
    "scrolled": true
   },
   "outputs": [],
   "source": [
    "# for r, d, f in os.walk(path): #I walk through the folders and take files one by one\n",
    "        \n",
    "#         for file in f:\n",
    "#             text_per_file = ''\n",
    "#             for word_list in senten.get(path+'/'+ file):\n",
    "                \n",
    "#                 text_per_file = text_per_file + (' '.join(word_list))\n",
    "#             list_of_sentences.append(text_per_file)\n",
    "            "
   ]
  },
  {
   "cell_type": "code",
   "execution_count": 77,
   "metadata": {},
   "outputs": [
    {
     "data": {
      "text/plain": [
       "740"
      ]
     },
     "execution_count": 77,
     "metadata": {},
     "output_type": "execute_result"
    }
   ],
   "source": [
    "# group = list([0]*len(list_of_sentences))\n",
    "# len(group)"
   ]
  },
  {
   "cell_type": "code",
   "execution_count": 78,
   "metadata": {},
   "outputs": [],
   "source": [
    "# dementia_df_nocookie = pd.DataFrame(\n",
    "#     {'utterances': list_of_sentences,\n",
    "     \n",
    "#      'group': group\n",
    "#     })"
   ]
  },
  {
   "cell_type": "code",
   "execution_count": 39,
   "metadata": {},
   "outputs": [],
   "source": [
    "d = {'dementia':0,'control' : 1 }"
   ]
  },
  {
   "cell_type": "code",
   "execution_count": 53,
   "metadata": {},
   "outputs": [],
   "source": [
    "##LO DEJO 80-20\n",
    "df = pd.concat([control_df, dementia_df])\n",
    "df = shuffle(df).reset_index(drop=True)\n",
    "df = df[['group', 'utterances']].rename(columns={\"group\":\"label\", \"utterances\":\"text\"})\n",
    "\n",
    "df['label'] = df['label'].map(d, na_action='ignore')\n",
    "\n",
    "df.iloc[0:int(len(df)*0.8)].to_csv('train_cookie.csv', index=False)\n",
    "df.iloc[int(len(df)*0.8):].to_csv('test_cookie.csv', index=False)"
   ]
  }
 ],
 "metadata": {
  "kernelspec": {
   "display_name": "Python 3",
   "language": "python",
   "name": "python3"
  },
  "language_info": {
   "codemirror_mode": {
    "name": "ipython",
    "version": 3
   },
   "file_extension": ".py",
   "mimetype": "text/x-python",
   "name": "python",
   "nbconvert_exporter": "python",
   "pygments_lexer": "ipython3",
   "version": "3.6.8"
  }
 },
 "nbformat": 4,
 "nbformat_minor": 2
}
